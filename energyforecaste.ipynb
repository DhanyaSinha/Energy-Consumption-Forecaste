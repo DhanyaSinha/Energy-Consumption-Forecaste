{
  "nbformat": 4,
  "nbformat_minor": 0,
  "metadata": {
    "colab": {
      "provenance": []
    },
    "kernelspec": {
      "name": "python3",
      "display_name": "Python 3"
    },
    "language_info": {
      "name": "python"
    }
  },
  "cells": [
    {
      "cell_type": "markdown",
      "source": [
        "**Loading the DataSet & Taking a Look**"
      ],
      "metadata": {
        "id": "kFrtL_t57qZ-"
      }
    },
    {
      "cell_type": "code",
      "execution_count": 2,
      "metadata": {
        "colab": {
          "base_uri": "https://localhost:8080/"
        },
        "id": "cqPDJp9T46-v",
        "outputId": "294cf5a2-4e86-44cd-dd69-8770108bcf12"
      },
      "outputs": [
        {
          "output_type": "stream",
          "name": "stdout",
          "text": [
            "Mounted at /content/drive\n"
          ]
        }
      ],
      "source": [
        "from google.colab import drive\n",
        "drive.mount('/content/drive')\n"
      ]
    },
    {
      "cell_type": "code",
      "source": [
        "import pandas as pd\n",
        "dataset_path = '/content/drive/My Drive/household_power_consumption.txt'\n",
        "data = pd.read_csv(dataset_path, sep=';', parse_dates={'Datetime': ['Date', 'Time']}, dayfirst=True)\n",
        "\n",
        "# Display the first few rows of the dataset\n",
        "data.head()\n"
      ],
      "metadata": {
        "colab": {
          "base_uri": "https://localhost:8080/",
          "height": 295
        },
        "id": "SMTeGDLo-3Hl",
        "outputId": "4657a70e-d660-4035-eb78-ffc8cfa99abf"
      },
      "execution_count": 4,
      "outputs": [
        {
          "output_type": "stream",
          "name": "stderr",
          "text": [
            "<ipython-input-4-e561a710c431>:3: FutureWarning: Support for nested sequences for 'parse_dates' in pd.read_csv is deprecated. Combine the desired columns with pd.to_datetime after parsing instead.\n",
            "  data = pd.read_csv(dataset_path, sep=';', parse_dates={'Datetime': ['Date', 'Time']}, dayfirst=True)\n",
            "<ipython-input-4-e561a710c431>:3: DtypeWarning: Columns (2,3,4,5,6,7) have mixed types. Specify dtype option on import or set low_memory=False.\n",
            "  data = pd.read_csv(dataset_path, sep=';', parse_dates={'Datetime': ['Date', 'Time']}, dayfirst=True)\n"
          ]
        },
        {
          "output_type": "execute_result",
          "data": {
            "text/plain": [
              "             Datetime Global_active_power Global_reactive_power  Voltage  \\\n",
              "0 2006-12-16 17:24:00               4.216                 0.418  234.840   \n",
              "1 2006-12-16 17:25:00               5.360                 0.436  233.630   \n",
              "2 2006-12-16 17:26:00               5.374                 0.498  233.290   \n",
              "3 2006-12-16 17:27:00               5.388                 0.502  233.740   \n",
              "4 2006-12-16 17:28:00               3.666                 0.528  235.680   \n",
              "\n",
              "  Global_intensity Sub_metering_1 Sub_metering_2  Sub_metering_3  \n",
              "0           18.400          0.000          1.000            17.0  \n",
              "1           23.000          0.000          1.000            16.0  \n",
              "2           23.000          0.000          2.000            17.0  \n",
              "3           23.000          0.000          1.000            17.0  \n",
              "4           15.800          0.000          1.000            17.0  "
            ],
            "text/html": [
              "\n",
              "  <div id=\"df-4ff3f50a-d2c6-488d-93e5-ff94b759c3a9\" class=\"colab-df-container\">\n",
              "    <div>\n",
              "<style scoped>\n",
              "    .dataframe tbody tr th:only-of-type {\n",
              "        vertical-align: middle;\n",
              "    }\n",
              "\n",
              "    .dataframe tbody tr th {\n",
              "        vertical-align: top;\n",
              "    }\n",
              "\n",
              "    .dataframe thead th {\n",
              "        text-align: right;\n",
              "    }\n",
              "</style>\n",
              "<table border=\"1\" class=\"dataframe\">\n",
              "  <thead>\n",
              "    <tr style=\"text-align: right;\">\n",
              "      <th></th>\n",
              "      <th>Datetime</th>\n",
              "      <th>Global_active_power</th>\n",
              "      <th>Global_reactive_power</th>\n",
              "      <th>Voltage</th>\n",
              "      <th>Global_intensity</th>\n",
              "      <th>Sub_metering_1</th>\n",
              "      <th>Sub_metering_2</th>\n",
              "      <th>Sub_metering_3</th>\n",
              "    </tr>\n",
              "  </thead>\n",
              "  <tbody>\n",
              "    <tr>\n",
              "      <th>0</th>\n",
              "      <td>2006-12-16 17:24:00</td>\n",
              "      <td>4.216</td>\n",
              "      <td>0.418</td>\n",
              "      <td>234.840</td>\n",
              "      <td>18.400</td>\n",
              "      <td>0.000</td>\n",
              "      <td>1.000</td>\n",
              "      <td>17.0</td>\n",
              "    </tr>\n",
              "    <tr>\n",
              "      <th>1</th>\n",
              "      <td>2006-12-16 17:25:00</td>\n",
              "      <td>5.360</td>\n",
              "      <td>0.436</td>\n",
              "      <td>233.630</td>\n",
              "      <td>23.000</td>\n",
              "      <td>0.000</td>\n",
              "      <td>1.000</td>\n",
              "      <td>16.0</td>\n",
              "    </tr>\n",
              "    <tr>\n",
              "      <th>2</th>\n",
              "      <td>2006-12-16 17:26:00</td>\n",
              "      <td>5.374</td>\n",
              "      <td>0.498</td>\n",
              "      <td>233.290</td>\n",
              "      <td>23.000</td>\n",
              "      <td>0.000</td>\n",
              "      <td>2.000</td>\n",
              "      <td>17.0</td>\n",
              "    </tr>\n",
              "    <tr>\n",
              "      <th>3</th>\n",
              "      <td>2006-12-16 17:27:00</td>\n",
              "      <td>5.388</td>\n",
              "      <td>0.502</td>\n",
              "      <td>233.740</td>\n",
              "      <td>23.000</td>\n",
              "      <td>0.000</td>\n",
              "      <td>1.000</td>\n",
              "      <td>17.0</td>\n",
              "    </tr>\n",
              "    <tr>\n",
              "      <th>4</th>\n",
              "      <td>2006-12-16 17:28:00</td>\n",
              "      <td>3.666</td>\n",
              "      <td>0.528</td>\n",
              "      <td>235.680</td>\n",
              "      <td>15.800</td>\n",
              "      <td>0.000</td>\n",
              "      <td>1.000</td>\n",
              "      <td>17.0</td>\n",
              "    </tr>\n",
              "  </tbody>\n",
              "</table>\n",
              "</div>\n",
              "    <div class=\"colab-df-buttons\">\n",
              "\n",
              "  <div class=\"colab-df-container\">\n",
              "    <button class=\"colab-df-convert\" onclick=\"convertToInteractive('df-4ff3f50a-d2c6-488d-93e5-ff94b759c3a9')\"\n",
              "            title=\"Convert this dataframe to an interactive table.\"\n",
              "            style=\"display:none;\">\n",
              "\n",
              "  <svg xmlns=\"http://www.w3.org/2000/svg\" height=\"24px\" viewBox=\"0 -960 960 960\">\n",
              "    <path d=\"M120-120v-720h720v720H120Zm60-500h600v-160H180v160Zm220 220h160v-160H400v160Zm0 220h160v-160H400v160ZM180-400h160v-160H180v160Zm440 0h160v-160H620v160ZM180-180h160v-160H180v160Zm440 0h160v-160H620v160Z\"/>\n",
              "  </svg>\n",
              "    </button>\n",
              "\n",
              "  <style>\n",
              "    .colab-df-container {\n",
              "      display:flex;\n",
              "      gap: 12px;\n",
              "    }\n",
              "\n",
              "    .colab-df-convert {\n",
              "      background-color: #E8F0FE;\n",
              "      border: none;\n",
              "      border-radius: 50%;\n",
              "      cursor: pointer;\n",
              "      display: none;\n",
              "      fill: #1967D2;\n",
              "      height: 32px;\n",
              "      padding: 0 0 0 0;\n",
              "      width: 32px;\n",
              "    }\n",
              "\n",
              "    .colab-df-convert:hover {\n",
              "      background-color: #E2EBFA;\n",
              "      box-shadow: 0px 1px 2px rgba(60, 64, 67, 0.3), 0px 1px 3px 1px rgba(60, 64, 67, 0.15);\n",
              "      fill: #174EA6;\n",
              "    }\n",
              "\n",
              "    .colab-df-buttons div {\n",
              "      margin-bottom: 4px;\n",
              "    }\n",
              "\n",
              "    [theme=dark] .colab-df-convert {\n",
              "      background-color: #3B4455;\n",
              "      fill: #D2E3FC;\n",
              "    }\n",
              "\n",
              "    [theme=dark] .colab-df-convert:hover {\n",
              "      background-color: #434B5C;\n",
              "      box-shadow: 0px 1px 3px 1px rgba(0, 0, 0, 0.15);\n",
              "      filter: drop-shadow(0px 1px 2px rgba(0, 0, 0, 0.3));\n",
              "      fill: #FFFFFF;\n",
              "    }\n",
              "  </style>\n",
              "\n",
              "    <script>\n",
              "      const buttonEl =\n",
              "        document.querySelector('#df-4ff3f50a-d2c6-488d-93e5-ff94b759c3a9 button.colab-df-convert');\n",
              "      buttonEl.style.display =\n",
              "        google.colab.kernel.accessAllowed ? 'block' : 'none';\n",
              "\n",
              "      async function convertToInteractive(key) {\n",
              "        const element = document.querySelector('#df-4ff3f50a-d2c6-488d-93e5-ff94b759c3a9');\n",
              "        const dataTable =\n",
              "          await google.colab.kernel.invokeFunction('convertToInteractive',\n",
              "                                                    [key], {});\n",
              "        if (!dataTable) return;\n",
              "\n",
              "        const docLinkHtml = 'Like what you see? Visit the ' +\n",
              "          '<a target=\"_blank\" href=https://colab.research.google.com/notebooks/data_table.ipynb>data table notebook</a>'\n",
              "          + ' to learn more about interactive tables.';\n",
              "        element.innerHTML = '';\n",
              "        dataTable['output_type'] = 'display_data';\n",
              "        await google.colab.output.renderOutput(dataTable, element);\n",
              "        const docLink = document.createElement('div');\n",
              "        docLink.innerHTML = docLinkHtml;\n",
              "        element.appendChild(docLink);\n",
              "      }\n",
              "    </script>\n",
              "  </div>\n",
              "\n",
              "\n",
              "<div id=\"df-3ddd151d-2783-4efb-8fee-156148651bed\">\n",
              "  <button class=\"colab-df-quickchart\" onclick=\"quickchart('df-3ddd151d-2783-4efb-8fee-156148651bed')\"\n",
              "            title=\"Suggest charts\"\n",
              "            style=\"display:none;\">\n",
              "\n",
              "<svg xmlns=\"http://www.w3.org/2000/svg\" height=\"24px\"viewBox=\"0 0 24 24\"\n",
              "     width=\"24px\">\n",
              "    <g>\n",
              "        <path d=\"M19 3H5c-1.1 0-2 .9-2 2v14c0 1.1.9 2 2 2h14c1.1 0 2-.9 2-2V5c0-1.1-.9-2-2-2zM9 17H7v-7h2v7zm4 0h-2V7h2v10zm4 0h-2v-4h2v4z\"/>\n",
              "    </g>\n",
              "</svg>\n",
              "  </button>\n",
              "\n",
              "<style>\n",
              "  .colab-df-quickchart {\n",
              "      --bg-color: #E8F0FE;\n",
              "      --fill-color: #1967D2;\n",
              "      --hover-bg-color: #E2EBFA;\n",
              "      --hover-fill-color: #174EA6;\n",
              "      --disabled-fill-color: #AAA;\n",
              "      --disabled-bg-color: #DDD;\n",
              "  }\n",
              "\n",
              "  [theme=dark] .colab-df-quickchart {\n",
              "      --bg-color: #3B4455;\n",
              "      --fill-color: #D2E3FC;\n",
              "      --hover-bg-color: #434B5C;\n",
              "      --hover-fill-color: #FFFFFF;\n",
              "      --disabled-bg-color: #3B4455;\n",
              "      --disabled-fill-color: #666;\n",
              "  }\n",
              "\n",
              "  .colab-df-quickchart {\n",
              "    background-color: var(--bg-color);\n",
              "    border: none;\n",
              "    border-radius: 50%;\n",
              "    cursor: pointer;\n",
              "    display: none;\n",
              "    fill: var(--fill-color);\n",
              "    height: 32px;\n",
              "    padding: 0;\n",
              "    width: 32px;\n",
              "  }\n",
              "\n",
              "  .colab-df-quickchart:hover {\n",
              "    background-color: var(--hover-bg-color);\n",
              "    box-shadow: 0 1px 2px rgba(60, 64, 67, 0.3), 0 1px 3px 1px rgba(60, 64, 67, 0.15);\n",
              "    fill: var(--button-hover-fill-color);\n",
              "  }\n",
              "\n",
              "  .colab-df-quickchart-complete:disabled,\n",
              "  .colab-df-quickchart-complete:disabled:hover {\n",
              "    background-color: var(--disabled-bg-color);\n",
              "    fill: var(--disabled-fill-color);\n",
              "    box-shadow: none;\n",
              "  }\n",
              "\n",
              "  .colab-df-spinner {\n",
              "    border: 2px solid var(--fill-color);\n",
              "    border-color: transparent;\n",
              "    border-bottom-color: var(--fill-color);\n",
              "    animation:\n",
              "      spin 1s steps(1) infinite;\n",
              "  }\n",
              "\n",
              "  @keyframes spin {\n",
              "    0% {\n",
              "      border-color: transparent;\n",
              "      border-bottom-color: var(--fill-color);\n",
              "      border-left-color: var(--fill-color);\n",
              "    }\n",
              "    20% {\n",
              "      border-color: transparent;\n",
              "      border-left-color: var(--fill-color);\n",
              "      border-top-color: var(--fill-color);\n",
              "    }\n",
              "    30% {\n",
              "      border-color: transparent;\n",
              "      border-left-color: var(--fill-color);\n",
              "      border-top-color: var(--fill-color);\n",
              "      border-right-color: var(--fill-color);\n",
              "    }\n",
              "    40% {\n",
              "      border-color: transparent;\n",
              "      border-right-color: var(--fill-color);\n",
              "      border-top-color: var(--fill-color);\n",
              "    }\n",
              "    60% {\n",
              "      border-color: transparent;\n",
              "      border-right-color: var(--fill-color);\n",
              "    }\n",
              "    80% {\n",
              "      border-color: transparent;\n",
              "      border-right-color: var(--fill-color);\n",
              "      border-bottom-color: var(--fill-color);\n",
              "    }\n",
              "    90% {\n",
              "      border-color: transparent;\n",
              "      border-bottom-color: var(--fill-color);\n",
              "    }\n",
              "  }\n",
              "</style>\n",
              "\n",
              "  <script>\n",
              "    async function quickchart(key) {\n",
              "      const quickchartButtonEl =\n",
              "        document.querySelector('#' + key + ' button');\n",
              "      quickchartButtonEl.disabled = true;  // To prevent multiple clicks.\n",
              "      quickchartButtonEl.classList.add('colab-df-spinner');\n",
              "      try {\n",
              "        const charts = await google.colab.kernel.invokeFunction(\n",
              "            'suggestCharts', [key], {});\n",
              "      } catch (error) {\n",
              "        console.error('Error during call to suggestCharts:', error);\n",
              "      }\n",
              "      quickchartButtonEl.classList.remove('colab-df-spinner');\n",
              "      quickchartButtonEl.classList.add('colab-df-quickchart-complete');\n",
              "    }\n",
              "    (() => {\n",
              "      let quickchartButtonEl =\n",
              "        document.querySelector('#df-3ddd151d-2783-4efb-8fee-156148651bed button');\n",
              "      quickchartButtonEl.style.display =\n",
              "        google.colab.kernel.accessAllowed ? 'block' : 'none';\n",
              "    })();\n",
              "  </script>\n",
              "</div>\n",
              "\n",
              "    </div>\n",
              "  </div>\n"
            ],
            "application/vnd.google.colaboratory.intrinsic+json": {
              "type": "dataframe",
              "variable_name": "data"
            }
          },
          "metadata": {},
          "execution_count": 4
        }
      ]
    },
    {
      "cell_type": "code",
      "source": [
        "import pandas as pd\n",
        "\n",
        "\n",
        "data['Datetime'] = pd.to_datetime(data['Datetime'], format='%d/%m/%Y %H:%M:%S')\n",
        "\n",
        "# Check the first few rows to verify the conversion\n",
        "print(data[['Datetime']].head())\n"
      ],
      "metadata": {
        "colab": {
          "base_uri": "https://localhost:8080/"
        },
        "id": "9tMBfyB0EndP",
        "outputId": "fcc24f0f-496a-4c67-a346-4808376a55ac"
      },
      "execution_count": 6,
      "outputs": [
        {
          "output_type": "stream",
          "name": "stdout",
          "text": [
            "             Datetime\n",
            "0 2006-12-16 17:24:00\n",
            "1 2006-12-16 17:25:00\n",
            "2 2006-12-16 17:26:00\n",
            "3 2006-12-16 17:27:00\n",
            "4 2006-12-16 17:28:00\n"
          ]
        }
      ]
    },
    {
      "cell_type": "markdown",
      "source": [
        "**Adding External Features: Holidays and Weather (humidity and temperature)**"
      ],
      "metadata": {
        "id": "6MzAvHJs76em"
      }
    },
    {
      "cell_type": "code",
      "source": [
        "!pip install holidays\n"
      ],
      "metadata": {
        "colab": {
          "base_uri": "https://localhost:8080/"
        },
        "id": "EWJKSfWl_AM9",
        "outputId": "0aebcc64-69f2-4ca3-d2fa-c28bbe8ec36f"
      },
      "execution_count": 5,
      "outputs": [
        {
          "output_type": "stream",
          "name": "stdout",
          "text": [
            "Requirement already satisfied: holidays in /usr/local/lib/python3.10/dist-packages (0.63)\n",
            "Requirement already satisfied: python-dateutil in /usr/local/lib/python3.10/dist-packages (from holidays) (2.8.2)\n",
            "Requirement already satisfied: six>=1.5 in /usr/local/lib/python3.10/dist-packages (from python-dateutil->holidays) (1.17.0)\n"
          ]
        }
      ]
    },
    {
      "cell_type": "code",
      "source": [
        "import holidays\n",
        "\n",
        "\n",
        "country_holidays = holidays.FR(years=data['Datetime'].dt.year.unique())\n",
        "\n",
        "# a new column 'is_holiday' and check if each row's date is a holiday\n",
        "data['is_holiday'] = data['Datetime'].dt.date.isin(country_holidays.keys())\n",
        "\n",
        "# Check the result\n",
        "print(data[['Datetime', 'is_holiday']].head())"
      ],
      "metadata": {
        "colab": {
          "base_uri": "https://localhost:8080/"
        },
        "id": "X0WH1LxgE5jU",
        "outputId": "a9ac5078-be17-4779-960c-cc356a2468a7"
      },
      "execution_count": 7,
      "outputs": [
        {
          "output_type": "stream",
          "name": "stdout",
          "text": [
            "             Datetime  is_holiday\n",
            "0 2006-12-16 17:24:00       False\n",
            "1 2006-12-16 17:25:00       False\n",
            "2 2006-12-16 17:26:00       False\n",
            "3 2006-12-16 17:27:00       False\n",
            "4 2006-12-16 17:28:00       False\n"
          ]
        }
      ]
    },
    {
      "cell_type": "code",
      "source": [
        "!pip install meteostat\n"
      ],
      "metadata": {
        "colab": {
          "base_uri": "https://localhost:8080/"
        },
        "id": "nEgIHZ4-Fa2K",
        "outputId": "8f424bb0-66ae-4d52-f033-cade449ea9fd"
      },
      "execution_count": 8,
      "outputs": [
        {
          "output_type": "stream",
          "name": "stdout",
          "text": [
            "Collecting meteostat\n",
            "  Downloading meteostat-1.6.8-py3-none-any.whl.metadata (4.6 kB)\n",
            "Requirement already satisfied: pandas>=1.1 in /usr/local/lib/python3.10/dist-packages (from meteostat) (2.2.2)\n",
            "Requirement already satisfied: pytz in /usr/local/lib/python3.10/dist-packages (from meteostat) (2024.2)\n",
            "Requirement already satisfied: numpy in /usr/local/lib/python3.10/dist-packages (from meteostat) (1.26.4)\n",
            "Requirement already satisfied: python-dateutil>=2.8.2 in /usr/local/lib/python3.10/dist-packages (from pandas>=1.1->meteostat) (2.8.2)\n",
            "Requirement already satisfied: tzdata>=2022.7 in /usr/local/lib/python3.10/dist-packages (from pandas>=1.1->meteostat) (2024.2)\n",
            "Requirement already satisfied: six>=1.5 in /usr/local/lib/python3.10/dist-packages (from python-dateutil>=2.8.2->pandas>=1.1->meteostat) (1.17.0)\n",
            "Downloading meteostat-1.6.8-py3-none-any.whl (31 kB)\n",
            "Installing collected packages: meteostat\n",
            "Successfully installed meteostat-1.6.8\n"
          ]
        }
      ]
    },
    {
      "cell_type": "code",
      "source": [
        "from meteostat import Point, Daily\n",
        "import pandas as pd\n",
        "\n",
        "# location for weather data (latitude, longitude)\n",
        "location = Point(48.7708, 2.3383)  # Sceaux coordinates\n",
        "\n",
        "#  a start and end date based on the range of dates in 'Datetime' column\n",
        "start_date = data['Datetime'].min().to_pydatetime()\n",
        "end_date = data['Datetime'].max().to_pydatetime()\n",
        "\n",
        "# Get daily weather data for the date range\n",
        "weather_data = Daily(location, start_date, end_date)\n",
        "weather_data = weather_data.fetch()\n",
        "\n",
        "\n",
        "weather_data.reset_index(inplace=True)\n",
        "\n",
        "\n",
        "\n",
        "# Convert 'time' column in weather_data to a date-only format to match 'Date' from data\n",
        "weather_data['time'] = weather_data['time'].dt.date\n",
        "\n",
        "# Filter out rows from data where 'Date' is before the start of weather data\n",
        "data['Date'] = data['Datetime'].dt.date\n",
        "data_filtered = data[data['Date'] >= pd.to_datetime('2006-12-17').date()]\n",
        "\n",
        "# Merge with the weather data\n",
        "merged_data = pd.merge(data_filtered, weather_data[['time', 'tavg', 'prcp']],\n",
        "                       left_on='Date', right_on='time', how='left')\n",
        "\n",
        "# Drop the extra 'time' column from the merged dataframe\n",
        "merged_data.drop(columns=['time'], inplace=True)\n",
        "\n",
        "# Check the result\n",
        "print(merged_data[['Datetime', 'Date', 'tavg', 'prcp']].head())\n"
      ],
      "metadata": {
        "colab": {
          "base_uri": "https://localhost:8080/"
        },
        "id": "8X8zLUvkNDK5",
        "outputId": "ff368fc7-715a-4090-8d79-d900ed34865a"
      },
      "execution_count": 22,
      "outputs": [
        {
          "output_type": "stream",
          "name": "stdout",
          "text": [
            "             Datetime        Date  tavg  prcp\n",
            "0 2006-12-17 00:00:00  2006-12-17   4.4   3.3\n",
            "1 2006-12-17 00:01:00  2006-12-17   4.4   3.3\n",
            "2 2006-12-17 00:02:00  2006-12-17   4.4   3.3\n",
            "3 2006-12-17 00:03:00  2006-12-17   4.4   3.3\n",
            "4 2006-12-17 00:04:00  2006-12-17   4.4   3.3\n"
          ]
        }
      ]
    },
    {
      "cell_type": "code",
      "source": [
        "print(merged_data.head())"
      ],
      "metadata": {
        "colab": {
          "base_uri": "https://localhost:8080/"
        },
        "id": "cCEv1vRSOyZX",
        "outputId": "7205ca9b-18f4-479b-8b52-e3256d84e79f"
      },
      "execution_count": 23,
      "outputs": [
        {
          "output_type": "stream",
          "name": "stdout",
          "text": [
            "             Datetime Global_active_power Global_reactive_power  Voltage  \\\n",
            "0 2006-12-17 00:00:00               1.044                 0.152  242.730   \n",
            "1 2006-12-17 00:01:00               1.520                 0.220  242.200   \n",
            "2 2006-12-17 00:02:00               3.038                 0.194  240.140   \n",
            "3 2006-12-17 00:03:00               2.974                 0.194  239.970   \n",
            "4 2006-12-17 00:04:00               2.846                 0.198  240.390   \n",
            "\n",
            "  Global_intensity Sub_metering_1 Sub_metering_2  Sub_metering_3  is_holiday  \\\n",
            "0            4.400          0.000          2.000             0.0       False   \n",
            "1            7.400          0.000          1.000             0.0       False   \n",
            "2           12.600          0.000          2.000             0.0       False   \n",
            "3           12.400          0.000          1.000             0.0       False   \n",
            "4           11.800          0.000          2.000             0.0       False   \n",
            "\n",
            "         Date  tavg  prcp  \n",
            "0  2006-12-17   4.4   3.3  \n",
            "1  2006-12-17   4.4   3.3  \n",
            "2  2006-12-17   4.4   3.3  \n",
            "3  2006-12-17   4.4   3.3  \n",
            "4  2006-12-17   4.4   3.3  \n"
          ]
        }
      ]
    },
    {
      "cell_type": "markdown",
      "source": [
        "**Performing Time InterPolation for Missing Values**"
      ],
      "metadata": {
        "id": "N_9NsEXo8fiQ"
      }
    },
    {
      "cell_type": "code",
      "source": [
        "import pandas as pd\n",
        "\n",
        "# Ensure 'Datetime' is in datetime format\n",
        "merged_data['Datetime'] = pd.to_datetime(merged_data['Datetime'])\n",
        "\n",
        "# Set 'Datetime' as the index for time-based interpolation\n",
        "merged_data.set_index('Datetime', inplace=True)\n",
        "\n",
        "# Generate a continuous date range for all timestamps\n",
        "# We will create a date range starting from the earliest datetime to the latest datetime in the dataset\n",
        "full_date_range = pd.date_range(start=merged_data.index.min(), end=merged_data.index.max(), freq='H')\n",
        "\n",
        "# Reindex the dataframe to include all timestamps, filling missing timestamps with NaNs\n",
        "merged_data = merged_data.reindex(full_date_range)\n",
        "\n",
        "# Perform time interpolation on all columns with missing values\n",
        "merged_data = merged_data.interpolate(method='time')\n",
        "\n",
        "# Reset the index to bring 'Datetime' back as a column\n",
        "merged_data.reset_index(inplace=True)\n",
        "merged_data.rename(columns={'index': 'Datetime'}, inplace=True)\n",
        "\n",
        "# Check the result\n",
        "print(merged_data.head())\n"
      ],
      "metadata": {
        "colab": {
          "base_uri": "https://localhost:8080/"
        },
        "id": "eM7TCTQfPLEe",
        "outputId": "6ec78257-5890-4f50-fba6-9c37dc0d6381"
      },
      "execution_count": 24,
      "outputs": [
        {
          "output_type": "stream",
          "name": "stderr",
          "text": [
            "FutureWarning: 'H' is deprecated and will be removed in a future version, please use 'h' instead.\n"
          ]
        },
        {
          "output_type": "stream",
          "name": "stdout",
          "text": [
            "             Datetime Global_active_power Global_reactive_power  Voltage  \\\n",
            "0 2006-12-17 00:00:00               1.044                 0.152  242.730   \n",
            "1 2006-12-17 01:00:00               1.008                 0.000  242.350   \n",
            "2 2006-12-17 02:00:00               1.334                 0.148  242.140   \n",
            "3 2006-12-17 03:00:00               2.542                 0.214  244.060   \n",
            "4 2006-12-17 04:00:00               2.402                 0.076  243.180   \n",
            "\n",
            "  Global_intensity Sub_metering_1 Sub_metering_2  Sub_metering_3  is_holiday  \\\n",
            "0            4.400          0.000          2.000             0.0       False   \n",
            "1            5.400          0.000          0.000             0.0       False   \n",
            "2            7.000          0.000          5.000             0.0       False   \n",
            "3           10.400          0.000          0.000             0.0       False   \n",
            "4            9.800          0.000          1.000             0.0       False   \n",
            "\n",
            "         Date  tavg  prcp  \n",
            "0  2006-12-17   4.4   3.3  \n",
            "1  2006-12-17   4.4   3.3  \n",
            "2  2006-12-17   4.4   3.3  \n",
            "3  2006-12-17   4.4   3.3  \n",
            "4  2006-12-17   4.4   3.3  \n"
          ]
        },
        {
          "output_type": "stream",
          "name": "stderr",
          "text": [
            "FutureWarning: DataFrame.interpolate with object dtype is deprecated and will raise in a future version. Call obj.infer_objects(copy=False) before interpolating instead.\n"
          ]
        }
      ]
    },
    {
      "cell_type": "code",
      "source": [
        "print(merged_data.isnull().sum())"
      ],
      "metadata": {
        "colab": {
          "base_uri": "https://localhost:8080/"
        },
        "id": "rDHENCfgP8Rz",
        "outputId": "cf32c832-433d-4eaf-e0a6-ca496847dbd3"
      },
      "execution_count": 25,
      "outputs": [
        {
          "output_type": "stream",
          "name": "stdout",
          "text": [
            "Datetime                 0\n",
            "Global_active_power      0\n",
            "Global_reactive_power    0\n",
            "Voltage                  0\n",
            "Global_intensity         0\n",
            "Sub_metering_1           0\n",
            "Sub_metering_2           0\n",
            "Sub_metering_3           0\n",
            "is_holiday               0\n",
            "Date                     0\n",
            "tavg                     0\n",
            "prcp                     0\n",
            "dtype: int64\n"
          ]
        }
      ]
    },
    {
      "cell_type": "markdown",
      "source": [
        "**Label Encoding For Categorical Features**"
      ],
      "metadata": {
        "id": "EcagtSAX8pT3"
      }
    },
    {
      "cell_type": "code",
      "source": [
        "from sklearn.preprocessing import LabelEncoder\n",
        "\n",
        "\n",
        "# Encoding the 'is_holiday' column\n",
        "label_encoder = LabelEncoder()\n",
        "merged_data['is_holiday_encoded'] = label_encoder.fit_transform(merged_data['is_holiday'])\n",
        "\n",
        "# Check the result\n",
        "print(merged_data[['is_holiday', 'is_holiday_encoded']].head())\n"
      ],
      "metadata": {
        "colab": {
          "base_uri": "https://localhost:8080/"
        },
        "id": "nQJ3SOjBZD0a",
        "outputId": "2492dfdb-4d7b-48c8-f4ef-48a3a38a07d5"
      },
      "execution_count": 29,
      "outputs": [
        {
          "output_type": "stream",
          "name": "stdout",
          "text": [
            "   is_holiday  is_holiday_encoded\n",
            "0       False                   0\n",
            "1       False                   0\n",
            "2       False                   0\n",
            "3       False                   0\n",
            "4       False                   0\n"
          ]
        }
      ]
    },
    {
      "cell_type": "markdown",
      "source": [
        "**FEATURE SELECTION**"
      ],
      "metadata": {
        "id": "uCKuqVV-YaqC"
      }
    },
    {
      "cell_type": "code",
      "source": [
        "import numpy as np\n",
        "\n",
        "# Replace '?' with NaN in the entire dataframe\n",
        "merged_data.replace('?', np.nan, inplace=True)\n",
        "\n",
        "\n",
        "\n"
      ],
      "metadata": {
        "id": "0udutzfGQT3Z"
      },
      "execution_count": 33,
      "outputs": []
    },
    {
      "cell_type": "code",
      "source": [
        "# Drop 'Date' and 'Datetime' columns only for correlation purposes (without modifying the original data)\n",
        "correlation_data = merged_data.drop(columns=['Date', 'Datetime'], errors='ignore')\n",
        "\n",
        "# Now compute the correlation matrix using only numeric columns\n",
        "correlation_matrix = correlation_data.corr()\n",
        "\n",
        "\n",
        "\n",
        "# correlations with target variable ('Global_active_power')\n",
        "print(correlation_matrix['Global_active_power'].sort_values(ascending=False))\n"
      ],
      "metadata": {
        "colab": {
          "base_uri": "https://localhost:8080/"
        },
        "id": "97VqB9D3acrc",
        "outputId": "c06b71fe-ba13-4d90-fac3-cf5dcf72c356"
      },
      "execution_count": 38,
      "outputs": [
        {
          "output_type": "stream",
          "name": "stdout",
          "text": [
            "Global_active_power      1.000000\n",
            "Global_intensity         0.998877\n",
            "Sub_metering_3           0.639848\n",
            "Sub_metering_1           0.473716\n",
            "Sub_metering_2           0.439920\n",
            "Global_reactive_power    0.247169\n",
            "is_holiday              -0.001205\n",
            "is_holiday_encoded      -0.001205\n",
            "prcp                    -0.011508\n",
            "tavg                    -0.214501\n",
            "Voltage                 -0.402925\n",
            "Name: Global_active_power, dtype: float64\n"
          ]
        }
      ]
    },
    {
      "cell_type": "code",
      "source": [
        "# Convert to numeric, coercing errors to NaN\n",
        "merged_data['Sub_metering_1'] = pd.to_numeric(merged_data['Sub_metering_1'], errors='coerce')\n",
        "merged_data['Sub_metering_2'] = pd.to_numeric(merged_data['Sub_metering_2'], errors='coerce')\n",
        "merged_data['Sub_metering_3'] = pd.to_numeric(merged_data['Sub_metering_3'], errors='coerce')\n",
        "\n",
        "# create the Total_sub_metering column\n",
        "merged_data['Total_sub_metering'] = merged_data['Sub_metering_1'] + merged_data['Sub_metering_2'] + merged_data['Sub_metering_3']\n",
        "\n",
        "# Drop the specified columns\n",
        "merged_data = merged_data.drop(columns=['is_holiday', 'Sub_metering_1', 'Sub_metering_2', 'Sub_metering_3'])\n",
        "\n",
        "# Verify the changes\n",
        "print(merged_data.head())\n"
      ],
      "metadata": {
        "colab": {
          "base_uri": "https://localhost:8080/"
        },
        "id": "UbJ-56QUZ4Cr",
        "outputId": "777258ae-ffe6-4670-86a6-b8917c1b48e4"
      },
      "execution_count": 40,
      "outputs": [
        {
          "output_type": "stream",
          "name": "stdout",
          "text": [
            "     Datetime Global_active_power Global_reactive_power  Voltage  \\\n",
            "0  1166313600               1.044                 0.152  242.730   \n",
            "1  1166317200               1.008                 0.000  242.350   \n",
            "2  1166320800               1.334                 0.148  242.140   \n",
            "3  1166324400               2.542                 0.214  244.060   \n",
            "4  1166328000               2.402                 0.076  243.180   \n",
            "\n",
            "  Global_intensity        Date  tavg  prcp  is_holiday_encoded  \\\n",
            "0            4.400  2006-12-17   4.4   3.3                   0   \n",
            "1            5.400  2006-12-17   4.4   3.3                   0   \n",
            "2            7.000  2006-12-17   4.4   3.3                   0   \n",
            "3           10.400  2006-12-17   4.4   3.3                   0   \n",
            "4            9.800  2006-12-17   4.4   3.3                   0   \n",
            "\n",
            "   Total_sub_metering  \n",
            "0                 2.0  \n",
            "1                 0.0  \n",
            "2                 5.0  \n",
            "3                 0.0  \n",
            "4                 1.0  \n"
          ]
        }
      ]
    },
    {
      "cell_type": "markdown",
      "source": [
        "**Data Normalization and Window Creation**"
      ],
      "metadata": {
        "id": "TSA8ls4r9GEe"
      }
    },
    {
      "cell_type": "code",
      "source": [
        "import pandas as pd\n",
        "from sklearn.preprocessing import MinMaxScaler\n",
        "import numpy as np\n",
        "\n",
        "\n",
        "\n",
        "# Step 1: Select relevant features for normalization (excluding the Date)\n",
        "features_to_normalize = ['Global_active_power', 'Global_reactive_power', 'Voltage', 'Global_intensity',\n",
        "                         'Total_sub_metering', 'prcp', 'tavg', 'is_holiday_encoded']\n",
        "\n",
        "# Initialize the MinMaxScaler\n",
        "scaler = MinMaxScaler()\n",
        "\n",
        "# Normalize the selected features\n",
        "merged_data[features_to_normalize] = scaler.fit_transform(merged_data[features_to_normalize])\n",
        "\n",
        "# Step 2: Create X (features) and y (target) with a sliding window of size 24 hours\n",
        "\n",
        "window_size = 24\n",
        "\n",
        "# Initialize lists to hold the windowed data (X) and targets (y)\n",
        "X = []\n",
        "y = []\n",
        "\n",
        "# Create the sliding window\n",
        "for i in range(window_size, len(merged_data) - 1):  # Make sure we don’t go out of bounds\n",
        "    # Select the window of data (last 24 hours) as features\n",
        "    window_data = merged_data[features_to_normalize].iloc[i - window_size:i].values\n",
        "\n",
        "    # The target is the Global_active_power for the next hour\n",
        "    target_value = merged_data['Global_active_power'].iloc[i + 1]\n",
        "\n",
        "    # Append the window data (input features) and the target value\n",
        "    X.append(window_data)\n",
        "    y.append(target_value)\n",
        "\n",
        "# Convert X and y into numpy arrays\n",
        "X = np.array(X)\n",
        "y = np.array(y)\n",
        "\n",
        "# Display the shape of X and y to verify\n",
        "print(f\"Shape of X: {X.shape}\")\n",
        "print(f\"Shape of y: {y.shape}\")\n",
        "\n"
      ],
      "metadata": {
        "colab": {
          "base_uri": "https://localhost:8080/"
        },
        "id": "r0Cl1PbKdehZ",
        "outputId": "c175f69f-4a9e-47d0-8c91-f5d706c22d6d"
      },
      "execution_count": 42,
      "outputs": [
        {
          "output_type": "stream",
          "name": "stdout",
          "text": [
            "Shape of X: (34557, 24, 8)\n",
            "Shape of y: (34557,)\n"
          ]
        }
      ]
    },
    {
      "cell_type": "markdown",
      "source": [
        "**Splitting DataSet**"
      ],
      "metadata": {
        "id": "Ae82R9B99Xhl"
      }
    },
    {
      "cell_type": "code",
      "source": [
        "from sklearn.model_selection import train_test_split\n",
        "\n",
        "# Splitting the data into training (70%), validation (15%), and test (15%)\n",
        "X_train, X_temp, y_train, y_temp = train_test_split(X, y, test_size=0.30, shuffle=False)\n",
        "\n",
        "X_val, X_test, y_val, y_test = train_test_split(X_temp, y_temp, test_size=0.50, shuffle=False)  # 50% of 30% -> 15% total\n",
        "\n",
        "# Verify the shapes of the resulting sets\n",
        "print(f\"X_train shape: {X_train.shape}, y_train shape: {y_train.shape}\")\n",
        "print(f\"X_val shape: {X_val.shape}, y_val shape: {y_val.shape}\")\n",
        "print(f\"X_test shape: {X_test.shape}, y_test shape: {y_test.shape}\")\n"
      ],
      "metadata": {
        "colab": {
          "base_uri": "https://localhost:8080/"
        },
        "id": "9qQMRQDhjwjJ",
        "outputId": "f96bf593-6847-4328-967a-a798e2d94458"
      },
      "execution_count": 43,
      "outputs": [
        {
          "output_type": "stream",
          "name": "stdout",
          "text": [
            "X_train shape: (24189, 24, 8), y_train shape: (24189,)\n",
            "X_val shape: (5184, 24, 8), y_val shape: (5184,)\n",
            "X_test shape: (5184, 24, 8), y_test shape: (5184,)\n"
          ]
        }
      ]
    },
    {
      "cell_type": "code",
      "source": [
        "\n",
        "\n",
        "# If NaN values are found, replace them (example using 0 for simplicity)\n",
        "X_train = np.nan_to_num(X_train)\n",
        "y_train = np.nan_to_num(y_train)\n",
        "y_test = np.nan_to_num(y_test)\n",
        "y_val = np.nan_to_num(y_val)\n",
        "X_test = np.nan_to_num(X_test)\n",
        "X_val = np.nan_to_num(X_val)"
      ],
      "metadata": {
        "colab": {
          "base_uri": "https://localhost:8080/"
        },
        "id": "sXM4qi0Zj6FL",
        "outputId": "2a39732c-b3be-440e-870e-3424ca38c49a"
      },
      "execution_count": 52,
      "outputs": [
        {
          "output_type": "stream",
          "name": "stdout",
          "text": [
            "False\n",
            "False\n"
          ]
        }
      ]
    },
    {
      "cell_type": "markdown",
      "source": [
        "**Model Creation**"
      ],
      "metadata": {
        "id": "UXCPg4BN9oVn"
      }
    },
    {
      "cell_type": "code",
      "source": [
        "import numpy as np\n",
        "import tensorflow as tf\n",
        "from tensorflow.keras.models import Sequential\n",
        "from tensorflow.keras.layers import LSTM, Dense\n",
        "from tensorflow.keras.optimizers import RMSprop\n",
        "from sklearn.model_selection import train_test_split\n",
        "\n",
        "# Assuming X_train, y_train, X_val, y_val, X_test, y_test are already defined\n",
        "# X_train shape: (24189, 24, 8), y_train shape: (24189,)\n",
        "# X_val shape: (5184, 24, 8), y_val shape: (5184,)\n",
        "# X_test shape: (5184, 24, 8), y_test shape: (5184,)\n",
        "\n",
        "# Define the LSTM model\n",
        "model = Sequential([\n",
        "    # LSTM layer with 32 units\n",
        "    LSTM(32, activation='tanh', return_sequences=False, input_shape=(24, 8)),\n",
        "    # First Dense layer with 5 units\n",
        "    Dense(5, activation='relu'),\n",
        "    # Second Dense layer with 5 units\n",
        "    Dense(5, activation='relu'),\n",
        "    # Final output layer predicting a single value\n",
        "    Dense(1)\n",
        "])\n",
        "\n",
        "# Compile the model with RMSprop optimizer and mean squared error loss\n",
        "model.compile(optimizer=RMSprop(learning_rate=0.001), loss='mse', metrics=['mae'])\n",
        "\n",
        "# Summary of the model architecture\n",
        "model.summary()\n",
        "\n",
        "# Train the model\n",
        "batch_size = 64\n",
        "epochs = 20\n",
        "\n",
        "history = model.fit(\n",
        "    X_train, y_train,\n",
        "    validation_data=(X_val, y_val),\n",
        "    batch_size=batch_size,\n",
        "    epochs=epochs,\n",
        "    verbose=2\n",
        ")\n",
        "\n",
        "# Evaluate the model\n",
        "test_loss, test_mae = model.evaluate(X_test, y_test, verbose=0)\n",
        "print(f\"Test Loss: {test_loss:.4f}, Test MAE: {test_mae:.4f}\")\n"
      ],
      "metadata": {
        "colab": {
          "base_uri": "https://localhost:8080/",
          "height": 1000
        },
        "id": "6wp54gy2pTQu",
        "outputId": "caaa2d7f-0c1e-4ac5-8f91-e36387cad0b7"
      },
      "execution_count": 53,
      "outputs": [
        {
          "output_type": "stream",
          "name": "stderr",
          "text": [
            "UserWarning: Do not pass an `input_shape`/`input_dim` argument to a layer. When using Sequential models, prefer using an `Input(shape)` object as the first layer in the model instead.\n"
          ]
        },
        {
          "output_type": "display_data",
          "data": {
            "text/plain": [
              "\u001b[1mModel: \"sequential_2\"\u001b[0m\n"
            ],
            "text/html": [
              "<pre style=\"white-space:pre;overflow-x:auto;line-height:normal;font-family:Menlo,'DejaVu Sans Mono',consolas,'Courier New',monospace\"><span style=\"font-weight: bold\">Model: \"sequential_2\"</span>\n",
              "</pre>\n"
            ]
          },
          "metadata": {}
        },
        {
          "output_type": "display_data",
          "data": {
            "text/plain": [
              "┏━━━━━━━━━━━━━━━━━━━━━━━━━━━━━━━━━━━━━━┳━━━━━━━━━━━━━━━━━━━━━━━━━━━━━┳━━━━━━━━━━━━━━━━━┓\n",
              "┃\u001b[1m \u001b[0m\u001b[1mLayer (type)                        \u001b[0m\u001b[1m \u001b[0m┃\u001b[1m \u001b[0m\u001b[1mOutput Shape               \u001b[0m\u001b[1m \u001b[0m┃\u001b[1m \u001b[0m\u001b[1m        Param #\u001b[0m\u001b[1m \u001b[0m┃\n",
              "┡━━━━━━━━━━━━━━━━━━━━━━━━━━━━━━━━━━━━━━╇━━━━━━━━━━━━━━━━━━━━━━━━━━━━━╇━━━━━━━━━━━━━━━━━┩\n",
              "│ lstm_3 (\u001b[38;5;33mLSTM\u001b[0m)                        │ (\u001b[38;5;45mNone\u001b[0m, \u001b[38;5;34m32\u001b[0m)                  │           \u001b[38;5;34m5,248\u001b[0m │\n",
              "├──────────────────────────────────────┼─────────────────────────────┼─────────────────┤\n",
              "│ dense_4 (\u001b[38;5;33mDense\u001b[0m)                      │ (\u001b[38;5;45mNone\u001b[0m, \u001b[38;5;34m5\u001b[0m)                   │             \u001b[38;5;34m165\u001b[0m │\n",
              "├──────────────────────────────────────┼─────────────────────────────┼─────────────────┤\n",
              "│ dense_5 (\u001b[38;5;33mDense\u001b[0m)                      │ (\u001b[38;5;45mNone\u001b[0m, \u001b[38;5;34m5\u001b[0m)                   │              \u001b[38;5;34m30\u001b[0m │\n",
              "├──────────────────────────────────────┼─────────────────────────────┼─────────────────┤\n",
              "│ dense_6 (\u001b[38;5;33mDense\u001b[0m)                      │ (\u001b[38;5;45mNone\u001b[0m, \u001b[38;5;34m1\u001b[0m)                   │               \u001b[38;5;34m6\u001b[0m │\n",
              "└──────────────────────────────────────┴─────────────────────────────┴─────────────────┘\n"
            ],
            "text/html": [
              "<pre style=\"white-space:pre;overflow-x:auto;line-height:normal;font-family:Menlo,'DejaVu Sans Mono',consolas,'Courier New',monospace\">┏━━━━━━━━━━━━━━━━━━━━━━━━━━━━━━━━━━━━━━┳━━━━━━━━━━━━━━━━━━━━━━━━━━━━━┳━━━━━━━━━━━━━━━━━┓\n",
              "┃<span style=\"font-weight: bold\"> Layer (type)                         </span>┃<span style=\"font-weight: bold\"> Output Shape                </span>┃<span style=\"font-weight: bold\">         Param # </span>┃\n",
              "┡━━━━━━━━━━━━━━━━━━━━━━━━━━━━━━━━━━━━━━╇━━━━━━━━━━━━━━━━━━━━━━━━━━━━━╇━━━━━━━━━━━━━━━━━┩\n",
              "│ lstm_3 (<span style=\"color: #0087ff; text-decoration-color: #0087ff\">LSTM</span>)                        │ (<span style=\"color: #00d7ff; text-decoration-color: #00d7ff\">None</span>, <span style=\"color: #00af00; text-decoration-color: #00af00\">32</span>)                  │           <span style=\"color: #00af00; text-decoration-color: #00af00\">5,248</span> │\n",
              "├──────────────────────────────────────┼─────────────────────────────┼─────────────────┤\n",
              "│ dense_4 (<span style=\"color: #0087ff; text-decoration-color: #0087ff\">Dense</span>)                      │ (<span style=\"color: #00d7ff; text-decoration-color: #00d7ff\">None</span>, <span style=\"color: #00af00; text-decoration-color: #00af00\">5</span>)                   │             <span style=\"color: #00af00; text-decoration-color: #00af00\">165</span> │\n",
              "├──────────────────────────────────────┼─────────────────────────────┼─────────────────┤\n",
              "│ dense_5 (<span style=\"color: #0087ff; text-decoration-color: #0087ff\">Dense</span>)                      │ (<span style=\"color: #00d7ff; text-decoration-color: #00d7ff\">None</span>, <span style=\"color: #00af00; text-decoration-color: #00af00\">5</span>)                   │              <span style=\"color: #00af00; text-decoration-color: #00af00\">30</span> │\n",
              "├──────────────────────────────────────┼─────────────────────────────┼─────────────────┤\n",
              "│ dense_6 (<span style=\"color: #0087ff; text-decoration-color: #0087ff\">Dense</span>)                      │ (<span style=\"color: #00d7ff; text-decoration-color: #00d7ff\">None</span>, <span style=\"color: #00af00; text-decoration-color: #00af00\">1</span>)                   │               <span style=\"color: #00af00; text-decoration-color: #00af00\">6</span> │\n",
              "└──────────────────────────────────────┴─────────────────────────────┴─────────────────┘\n",
              "</pre>\n"
            ]
          },
          "metadata": {}
        },
        {
          "output_type": "display_data",
          "data": {
            "text/plain": [
              "\u001b[1m Total params: \u001b[0m\u001b[38;5;34m5,449\u001b[0m (21.29 KB)\n"
            ],
            "text/html": [
              "<pre style=\"white-space:pre;overflow-x:auto;line-height:normal;font-family:Menlo,'DejaVu Sans Mono',consolas,'Courier New',monospace\"><span style=\"font-weight: bold\"> Total params: </span><span style=\"color: #00af00; text-decoration-color: #00af00\">5,449</span> (21.29 KB)\n",
              "</pre>\n"
            ]
          },
          "metadata": {}
        },
        {
          "output_type": "display_data",
          "data": {
            "text/plain": [
              "\u001b[1m Trainable params: \u001b[0m\u001b[38;5;34m5,449\u001b[0m (21.29 KB)\n"
            ],
            "text/html": [
              "<pre style=\"white-space:pre;overflow-x:auto;line-height:normal;font-family:Menlo,'DejaVu Sans Mono',consolas,'Courier New',monospace\"><span style=\"font-weight: bold\"> Trainable params: </span><span style=\"color: #00af00; text-decoration-color: #00af00\">5,449</span> (21.29 KB)\n",
              "</pre>\n"
            ]
          },
          "metadata": {}
        },
        {
          "output_type": "display_data",
          "data": {
            "text/plain": [
              "\u001b[1m Non-trainable params: \u001b[0m\u001b[38;5;34m0\u001b[0m (0.00 B)\n"
            ],
            "text/html": [
              "<pre style=\"white-space:pre;overflow-x:auto;line-height:normal;font-family:Menlo,'DejaVu Sans Mono',consolas,'Courier New',monospace\"><span style=\"font-weight: bold\"> Non-trainable params: </span><span style=\"color: #00af00; text-decoration-color: #00af00\">0</span> (0.00 B)\n",
              "</pre>\n"
            ]
          },
          "metadata": {}
        },
        {
          "output_type": "stream",
          "name": "stdout",
          "text": [
            "Epoch 1/20\n",
            "378/378 - 5s - 13ms/step - loss: 0.0147 - mae: 0.0893 - val_loss: 0.0134 - val_mae: 0.0850\n",
            "Epoch 2/20\n",
            "378/378 - 3s - 9ms/step - loss: 0.0136 - mae: 0.0853 - val_loss: 0.0128 - val_mae: 0.0836\n",
            "Epoch 3/20\n",
            "378/378 - 6s - 16ms/step - loss: 0.0131 - mae: 0.0825 - val_loss: 0.0124 - val_mae: 0.0797\n",
            "Epoch 4/20\n",
            "378/378 - 3s - 9ms/step - loss: 0.0128 - mae: 0.0808 - val_loss: 0.0121 - val_mae: 0.0795\n",
            "Epoch 5/20\n",
            "378/378 - 5s - 13ms/step - loss: 0.0124 - mae: 0.0795 - val_loss: 0.0117 - val_mae: 0.0790\n",
            "Epoch 6/20\n",
            "378/378 - 6s - 16ms/step - loss: 0.0122 - mae: 0.0781 - val_loss: 0.0119 - val_mae: 0.0744\n",
            "Epoch 7/20\n",
            "378/378 - 3s - 9ms/step - loss: 0.0119 - mae: 0.0767 - val_loss: 0.0113 - val_mae: 0.0765\n",
            "Epoch 8/20\n",
            "378/378 - 3s - 9ms/step - loss: 0.0117 - mae: 0.0753 - val_loss: 0.0113 - val_mae: 0.0763\n",
            "Epoch 9/20\n",
            "378/378 - 7s - 18ms/step - loss: 0.0116 - mae: 0.0744 - val_loss: 0.0111 - val_mae: 0.0729\n",
            "Epoch 10/20\n",
            "378/378 - 4s - 11ms/step - loss: 0.0114 - mae: 0.0736 - val_loss: 0.0109 - val_mae: 0.0735\n",
            "Epoch 11/20\n",
            "378/378 - 3s - 9ms/step - loss: 0.0113 - mae: 0.0731 - val_loss: 0.0108 - val_mae: 0.0737\n",
            "Epoch 12/20\n",
            "378/378 - 6s - 16ms/step - loss: 0.0112 - mae: 0.0728 - val_loss: 0.0108 - val_mae: 0.0710\n",
            "Epoch 13/20\n",
            "378/378 - 5s - 12ms/step - loss: 0.0112 - mae: 0.0723 - val_loss: 0.0109 - val_mae: 0.0741\n",
            "Epoch 14/20\n",
            "378/378 - 4s - 10ms/step - loss: 0.0111 - mae: 0.0721 - val_loss: 0.0107 - val_mae: 0.0710\n",
            "Epoch 15/20\n",
            "378/378 - 6s - 16ms/step - loss: 0.0111 - mae: 0.0721 - val_loss: 0.0108 - val_mae: 0.0725\n",
            "Epoch 16/20\n",
            "378/378 - 4s - 11ms/step - loss: 0.0110 - mae: 0.0718 - val_loss: 0.0107 - val_mae: 0.0706\n",
            "Epoch 17/20\n",
            "378/378 - 5s - 13ms/step - loss: 0.0110 - mae: 0.0715 - val_loss: 0.0106 - val_mae: 0.0720\n",
            "Epoch 18/20\n",
            "378/378 - 4s - 12ms/step - loss: 0.0110 - mae: 0.0715 - val_loss: 0.0107 - val_mae: 0.0700\n",
            "Epoch 19/20\n",
            "378/378 - 5s - 12ms/step - loss: 0.0110 - mae: 0.0713 - val_loss: 0.0108 - val_mae: 0.0712\n",
            "Epoch 20/20\n",
            "378/378 - 5s - 12ms/step - loss: 0.0110 - mae: 0.0713 - val_loss: 0.0105 - val_mae: 0.0711\n",
            "Test Loss: 0.0075, Test MAE: 0.0619\n"
          ]
        }
      ]
    },
    {
      "cell_type": "code",
      "source": [
        "!pip install scikeras\n"
      ],
      "metadata": {
        "colab": {
          "base_uri": "https://localhost:8080/"
        },
        "id": "jqyZuDecwvF3",
        "outputId": "119bd892-ebbd-4af0-857d-77f0820604b5"
      },
      "execution_count": 56,
      "outputs": [
        {
          "output_type": "stream",
          "name": "stdout",
          "text": [
            "Collecting scikeras\n",
            "  Downloading scikeras-0.13.0-py3-none-any.whl.metadata (3.1 kB)\n",
            "Requirement already satisfied: keras>=3.2.0 in /usr/local/lib/python3.10/dist-packages (from scikeras) (3.5.0)\n",
            "Requirement already satisfied: scikit-learn>=1.4.2 in /usr/local/lib/python3.10/dist-packages (from scikeras) (1.6.0)\n",
            "Requirement already satisfied: absl-py in /usr/local/lib/python3.10/dist-packages (from keras>=3.2.0->scikeras) (1.4.0)\n",
            "Requirement already satisfied: numpy in /usr/local/lib/python3.10/dist-packages (from keras>=3.2.0->scikeras) (1.26.4)\n",
            "Requirement already satisfied: rich in /usr/local/lib/python3.10/dist-packages (from keras>=3.2.0->scikeras) (13.9.4)\n",
            "Requirement already satisfied: namex in /usr/local/lib/python3.10/dist-packages (from keras>=3.2.0->scikeras) (0.0.8)\n",
            "Requirement already satisfied: h5py in /usr/local/lib/python3.10/dist-packages (from keras>=3.2.0->scikeras) (3.12.1)\n",
            "Requirement already satisfied: optree in /usr/local/lib/python3.10/dist-packages (from keras>=3.2.0->scikeras) (0.13.1)\n",
            "Requirement already satisfied: ml-dtypes in /usr/local/lib/python3.10/dist-packages (from keras>=3.2.0->scikeras) (0.4.1)\n",
            "Requirement already satisfied: packaging in /usr/local/lib/python3.10/dist-packages (from keras>=3.2.0->scikeras) (24.2)\n",
            "Requirement already satisfied: scipy>=1.6.0 in /usr/local/lib/python3.10/dist-packages (from scikit-learn>=1.4.2->scikeras) (1.13.1)\n",
            "Requirement already satisfied: joblib>=1.2.0 in /usr/local/lib/python3.10/dist-packages (from scikit-learn>=1.4.2->scikeras) (1.4.2)\n",
            "Requirement already satisfied: threadpoolctl>=3.1.0 in /usr/local/lib/python3.10/dist-packages (from scikit-learn>=1.4.2->scikeras) (3.5.0)\n",
            "Requirement already satisfied: typing-extensions>=4.5.0 in /usr/local/lib/python3.10/dist-packages (from optree->keras>=3.2.0->scikeras) (4.12.2)\n",
            "Requirement already satisfied: markdown-it-py>=2.2.0 in /usr/local/lib/python3.10/dist-packages (from rich->keras>=3.2.0->scikeras) (3.0.0)\n",
            "Requirement already satisfied: pygments<3.0.0,>=2.13.0 in /usr/local/lib/python3.10/dist-packages (from rich->keras>=3.2.0->scikeras) (2.18.0)\n",
            "Requirement already satisfied: mdurl~=0.1 in /usr/local/lib/python3.10/dist-packages (from markdown-it-py>=2.2.0->rich->keras>=3.2.0->scikeras) (0.1.2)\n",
            "Downloading scikeras-0.13.0-py3-none-any.whl (26 kB)\n",
            "Installing collected packages: scikeras\n",
            "Successfully installed scikeras-0.13.0\n"
          ]
        }
      ]
    },
    {
      "cell_type": "code",
      "source": [
        "!pip install keras-tuner\n"
      ],
      "metadata": {
        "colab": {
          "base_uri": "https://localhost:8080/"
        },
        "id": "U1EbfYzvytuV",
        "outputId": "15c79692-5843-4f9f-c39a-aa5da2343da0"
      },
      "execution_count": 59,
      "outputs": [
        {
          "output_type": "stream",
          "name": "stdout",
          "text": [
            "Collecting keras-tuner\n",
            "  Downloading keras_tuner-1.4.7-py3-none-any.whl.metadata (5.4 kB)\n",
            "Requirement already satisfied: keras in /usr/local/lib/python3.10/dist-packages (from keras-tuner) (3.5.0)\n",
            "Requirement already satisfied: packaging in /usr/local/lib/python3.10/dist-packages (from keras-tuner) (24.2)\n",
            "Requirement already satisfied: requests in /usr/local/lib/python3.10/dist-packages (from keras-tuner) (2.32.3)\n",
            "Collecting kt-legacy (from keras-tuner)\n",
            "  Downloading kt_legacy-1.0.5-py3-none-any.whl.metadata (221 bytes)\n",
            "Requirement already satisfied: absl-py in /usr/local/lib/python3.10/dist-packages (from keras->keras-tuner) (1.4.0)\n",
            "Requirement already satisfied: numpy in /usr/local/lib/python3.10/dist-packages (from keras->keras-tuner) (1.26.4)\n",
            "Requirement already satisfied: rich in /usr/local/lib/python3.10/dist-packages (from keras->keras-tuner) (13.9.4)\n",
            "Requirement already satisfied: namex in /usr/local/lib/python3.10/dist-packages (from keras->keras-tuner) (0.0.8)\n",
            "Requirement already satisfied: h5py in /usr/local/lib/python3.10/dist-packages (from keras->keras-tuner) (3.12.1)\n",
            "Requirement already satisfied: optree in /usr/local/lib/python3.10/dist-packages (from keras->keras-tuner) (0.13.1)\n",
            "Requirement already satisfied: ml-dtypes in /usr/local/lib/python3.10/dist-packages (from keras->keras-tuner) (0.4.1)\n",
            "Requirement already satisfied: charset-normalizer<4,>=2 in /usr/local/lib/python3.10/dist-packages (from requests->keras-tuner) (3.4.0)\n",
            "Requirement already satisfied: idna<4,>=2.5 in /usr/local/lib/python3.10/dist-packages (from requests->keras-tuner) (3.10)\n",
            "Requirement already satisfied: urllib3<3,>=1.21.1 in /usr/local/lib/python3.10/dist-packages (from requests->keras-tuner) (2.2.3)\n",
            "Requirement already satisfied: certifi>=2017.4.17 in /usr/local/lib/python3.10/dist-packages (from requests->keras-tuner) (2024.12.14)\n",
            "Requirement already satisfied: typing-extensions>=4.5.0 in /usr/local/lib/python3.10/dist-packages (from optree->keras->keras-tuner) (4.12.2)\n",
            "Requirement already satisfied: markdown-it-py>=2.2.0 in /usr/local/lib/python3.10/dist-packages (from rich->keras->keras-tuner) (3.0.0)\n",
            "Requirement already satisfied: pygments<3.0.0,>=2.13.0 in /usr/local/lib/python3.10/dist-packages (from rich->keras->keras-tuner) (2.18.0)\n",
            "Requirement already satisfied: mdurl~=0.1 in /usr/local/lib/python3.10/dist-packages (from markdown-it-py>=2.2.0->rich->keras->keras-tuner) (0.1.2)\n",
            "Downloading keras_tuner-1.4.7-py3-none-any.whl (129 kB)\n",
            "\u001b[?25l   \u001b[90m━━━━━━━━━━━━━━━━━━━━━━━━━━━━━━━━━━━━━━━━\u001b[0m \u001b[32m0.0/129.1 kB\u001b[0m \u001b[31m?\u001b[0m eta \u001b[36m-:--:--\u001b[0m\r\u001b[2K   \u001b[91m━━━━━━━━━━━━━━━━━━━━━━━━━━━━━━━━━━━━━━\u001b[0m\u001b[90m╺\u001b[0m\u001b[90m━\u001b[0m \u001b[32m122.9/129.1 kB\u001b[0m \u001b[31m4.6 MB/s\u001b[0m eta \u001b[36m0:00:01\u001b[0m\r\u001b[2K   \u001b[90m━━━━━━━━━━━━━━━━━━━━━━━━━━━━━━━━━━━━━━━━\u001b[0m \u001b[32m129.1/129.1 kB\u001b[0m \u001b[31m3.4 MB/s\u001b[0m eta \u001b[36m0:00:00\u001b[0m\n",
            "\u001b[?25hDownloading kt_legacy-1.0.5-py3-none-any.whl (9.6 kB)\n",
            "Installing collected packages: kt-legacy, keras-tuner\n",
            "Successfully installed keras-tuner-1.4.7 kt-legacy-1.0.5\n"
          ]
        }
      ]
    },
    {
      "cell_type": "markdown",
      "source": [
        "**HyperParameter Tuning**  "
      ],
      "metadata": {
        "id": "6cB3LuHv9sLE"
      }
    },
    {
      "cell_type": "code",
      "source": [
        "import keras_tuner as kt\n",
        "from tensorflow.keras.models import Sequential\n",
        "from tensorflow.keras.layers import LSTM, Dense\n",
        "from tensorflow.keras.optimizers import RMSprop\n",
        "\n",
        "# Function to build the model (with tunable hyperparameters)\n",
        "def build_model(hp):\n",
        "    model = Sequential([\n",
        "        # LSTM layer with tunable units\n",
        "        LSTM(hp.Int('lstm_units', min_value=32, max_value=128, step=32), activation='tanh', return_sequences=False, input_shape=(24, 8)),\n",
        "        # First Dense layer with tunable units\n",
        "        Dense(hp.Int('dense_units', min_value=5, max_value=20, step=5), activation='relu'),\n",
        "        # Second Dense layer with tunable units\n",
        "        Dense(hp.Int('dense_units', min_value=5, max_value=20, step=5), activation='relu'),\n",
        "        # Output layer predicting a single value\n",
        "        Dense(1)\n",
        "    ])\n",
        "\n",
        "    # Compile the model\n",
        "    model.compile(optimizer=RMSprop(learning_rate=hp.Float('learning_rate', min_value=1e-4, max_value=1e-2, sampling='LOG')), loss='mse', metrics=['mae'])\n",
        "\n",
        "    return model\n",
        "\n",
        "# Instantiate the KerasTuner RandomSearch\n",
        "tuner = kt.RandomSearch(\n",
        "    build_model,\n",
        "    objective='val_loss',\n",
        "    max_trials=5,  # Number of hyperparameter configurations to test\n",
        "    executions_per_trial=3,  # Number of times to train the model with the same configuration\n",
        "    directory='my_dir',  # Directory where the tuner results will be saved\n",
        "    project_name='lstm_hyperparameter_tuning'\n",
        ")\n",
        "\n",
        "# Search for the best hyperparameters\n",
        "tuner.search(X_train, y_train, epochs=20, batch_size=64, validation_data=(X_val, y_val))\n",
        "\n",
        "# Retrieve the best hyperparameters\n",
        "best_hp = tuner.get_best_hyperparameters(num_trials=1)[0]\n",
        "\n",
        "# Print the best hyperparameters\n",
        "print(\"Best Hyperparameters found:\")\n",
        "print(f\"LSTM units: {best_hp['lstm_units']}\")\n",
        "print(f\"Dense units: {best_hp['dense_units']}\")\n",
        "print(f\"Learning rate: {best_hp['learning_rate']}\")\n",
        "\n",
        "# Build the model with the best hyperparameters\n",
        "best_model = tuner.hypermodel.build(best_hp)\n",
        "\n",
        "# Train the best model\n",
        "best_model.fit(X_train, y_train, epochs=20, batch_size=64, validation_data=(X_val, y_val))\n",
        "\n",
        "# Evaluate the best model on the test data\n",
        "test_loss, test_mae = best_model.evaluate(X_test, y_test)\n",
        "print(f\"Final Test Loss: {test_loss:.4f}, Final Test MAE: {test_mae:.4f}\")\n"
      ],
      "metadata": {
        "colab": {
          "base_uri": "https://localhost:8080/"
        },
        "id": "VSlTUVfEwKyd",
        "outputId": "4cd46dfd-a753-4285-e5a0-136dd0545f22"
      },
      "execution_count": 60,
      "outputs": [
        {
          "output_type": "stream",
          "name": "stdout",
          "text": [
            "Trial 5 Complete [00h 17m 43s]\n",
            "val_loss: 0.010438504628837109\n",
            "\n",
            "Best val_loss So Far: 0.010438504628837109\n",
            "Total elapsed time: 01h 13m 51s\n",
            "Best Hyperparameters found:\n",
            "LSTM units: 96\n",
            "Dense units: 15\n",
            "Learning rate: 0.003902784327745087\n",
            "Epoch 1/20\n",
            "\u001b[1m378/378\u001b[0m \u001b[32m━━━━━━━━━━━━━━━━━━━━\u001b[0m\u001b[37m\u001b[0m \u001b[1m13s\u001b[0m 28ms/step - loss: 0.0157 - mae: 0.0930 - val_loss: 0.0133 - val_mae: 0.0877\n",
            "Epoch 2/20\n",
            "\u001b[1m378/378\u001b[0m \u001b[32m━━━━━━━━━━━━━━━━━━━━\u001b[0m\u001b[37m\u001b[0m \u001b[1m22s\u001b[0m 32ms/step - loss: 0.0134 - mae: 0.0841 - val_loss: 0.0129 - val_mae: 0.0872\n",
            "Epoch 3/20\n",
            "\u001b[1m378/378\u001b[0m \u001b[32m━━━━━━━━━━━━━━━━━━━━\u001b[0m\u001b[37m\u001b[0m \u001b[1m19s\u001b[0m 29ms/step - loss: 0.0119 - mae: 0.0774 - val_loss: 0.0112 - val_mae: 0.0734\n",
            "Epoch 4/20\n",
            "\u001b[1m378/378\u001b[0m \u001b[32m━━━━━━━━━━━━━━━━━━━━\u001b[0m\u001b[37m\u001b[0m \u001b[1m22s\u001b[0m 32ms/step - loss: 0.0115 - mae: 0.0752 - val_loss: 0.0108 - val_mae: 0.0714\n",
            "Epoch 5/20\n",
            "\u001b[1m378/378\u001b[0m \u001b[32m━━━━━━━━━━━━━━━━━━━━\u001b[0m\u001b[37m\u001b[0m \u001b[1m19s\u001b[0m 28ms/step - loss: 0.0113 - mae: 0.0735 - val_loss: 0.0113 - val_mae: 0.0724\n",
            "Epoch 6/20\n",
            "\u001b[1m378/378\u001b[0m \u001b[32m━━━━━━━━━━━━━━━━━━━━\u001b[0m\u001b[37m\u001b[0m \u001b[1m22s\u001b[0m 32ms/step - loss: 0.0114 - mae: 0.0729 - val_loss: 0.0109 - val_mae: 0.0741\n",
            "Epoch 7/20\n",
            "\u001b[1m378/378\u001b[0m \u001b[32m━━━━━━━━━━━━━━━━━━━━\u001b[0m\u001b[37m\u001b[0m \u001b[1m19s\u001b[0m 29ms/step - loss: 0.0112 - mae: 0.0725 - val_loss: 0.0110 - val_mae: 0.0706\n",
            "Epoch 8/20\n",
            "\u001b[1m378/378\u001b[0m \u001b[32m━━━━━━━━━━━━━━━━━━━━\u001b[0m\u001b[37m\u001b[0m \u001b[1m22s\u001b[0m 32ms/step - loss: 0.0116 - mae: 0.0741 - val_loss: 0.0112 - val_mae: 0.0697\n",
            "Epoch 9/20\n",
            "\u001b[1m378/378\u001b[0m \u001b[32m━━━━━━━━━━━━━━━━━━━━\u001b[0m\u001b[37m\u001b[0m \u001b[1m12s\u001b[0m 33ms/step - loss: 0.0111 - mae: 0.0724 - val_loss: 0.0105 - val_mae: 0.0701\n",
            "Epoch 10/20\n",
            "\u001b[1m378/378\u001b[0m \u001b[32m━━━━━━━━━━━━━━━━━━━━\u001b[0m\u001b[37m\u001b[0m \u001b[1m20s\u001b[0m 32ms/step - loss: 0.0113 - mae: 0.0727 - val_loss: 0.0111 - val_mae: 0.0699\n",
            "Epoch 11/20\n",
            "\u001b[1m378/378\u001b[0m \u001b[32m━━━━━━━━━━━━━━━━━━━━\u001b[0m\u001b[37m\u001b[0m \u001b[1m13s\u001b[0m 33ms/step - loss: 0.0109 - mae: 0.0703 - val_loss: 0.0108 - val_mae: 0.0692\n",
            "Epoch 12/20\n",
            "\u001b[1m378/378\u001b[0m \u001b[32m━━━━━━━━━━━━━━━━━━━━\u001b[0m\u001b[37m\u001b[0m \u001b[1m18s\u001b[0m 27ms/step - loss: 0.0111 - mae: 0.0719 - val_loss: 0.0106 - val_mae: 0.0733\n",
            "Epoch 13/20\n",
            "\u001b[1m378/378\u001b[0m \u001b[32m━━━━━━━━━━━━━━━━━━━━\u001b[0m\u001b[37m\u001b[0m \u001b[1m12s\u001b[0m 33ms/step - loss: 0.0110 - mae: 0.0715 - val_loss: 0.0108 - val_mae: 0.0705\n",
            "Epoch 14/20\n",
            "\u001b[1m378/378\u001b[0m \u001b[32m━━━━━━━━━━━━━━━━━━━━\u001b[0m\u001b[37m\u001b[0m \u001b[1m20s\u001b[0m 33ms/step - loss: 0.0112 - mae: 0.0718 - val_loss: 0.0105 - val_mae: 0.0718\n",
            "Epoch 15/20\n",
            "\u001b[1m378/378\u001b[0m \u001b[32m━━━━━━━━━━━━━━━━━━━━\u001b[0m\u001b[37m\u001b[0m \u001b[1m20s\u001b[0m 32ms/step - loss: 0.0107 - mae: 0.0704 - val_loss: 0.0107 - val_mae: 0.0717\n",
            "Epoch 16/20\n",
            "\u001b[1m378/378\u001b[0m \u001b[32m━━━━━━━━━━━━━━━━━━━━\u001b[0m\u001b[37m\u001b[0m \u001b[1m19s\u001b[0m 29ms/step - loss: 0.0106 - mae: 0.0696 - val_loss: 0.0114 - val_mae: 0.0697\n",
            "Epoch 17/20\n",
            "\u001b[1m378/378\u001b[0m \u001b[32m━━━━━━━━━━━━━━━━━━━━\u001b[0m\u001b[37m\u001b[0m \u001b[1m22s\u001b[0m 32ms/step - loss: 0.0105 - mae: 0.0695 - val_loss: 0.0105 - val_mae: 0.0708\n",
            "Epoch 18/20\n",
            "\u001b[1m378/378\u001b[0m \u001b[32m━━━━━━━━━━━━━━━━━━━━\u001b[0m\u001b[37m\u001b[0m \u001b[1m20s\u001b[0m 32ms/step - loss: 0.0108 - mae: 0.0704 - val_loss: 0.0107 - val_mae: 0.0711\n",
            "Epoch 19/20\n",
            "\u001b[1m378/378\u001b[0m \u001b[32m━━━━━━━━━━━━━━━━━━━━\u001b[0m\u001b[37m\u001b[0m \u001b[1m21s\u001b[0m 32ms/step - loss: 0.0108 - mae: 0.0700 - val_loss: 0.0111 - val_mae: 0.0695\n",
            "Epoch 20/20\n",
            "\u001b[1m378/378\u001b[0m \u001b[32m━━━━━━━━━━━━━━━━━━━━\u001b[0m\u001b[37m\u001b[0m \u001b[1m12s\u001b[0m 32ms/step - loss: 0.0111 - mae: 0.0712 - val_loss: 0.0106 - val_mae: 0.0691\n",
            "\u001b[1m162/162\u001b[0m \u001b[32m━━━━━━━━━━━━━━━━━━━━\u001b[0m\u001b[37m\u001b[0m \u001b[1m1s\u001b[0m 7ms/step - loss: 0.0076 - mae: 0.0601\n",
            "Final Test Loss: 0.0077, Final Test MAE: 0.0595\n"
          ]
        }
      ]
    },
    {
      "cell_type": "code",
      "source": [
        "import numpy as np\n",
        "import pandas as pd\n",
        "import matplotlib.pyplot as plt\n",
        "from sklearn.metrics import mean_squared_error, mean_absolute_percentage_error\n",
        "\n",
        "# Predict the energy consumption on the test set\n",
        "y_pred = best_model.predict(X_test)\n",
        "\n",
        "# Calculate RMSE\n",
        "rmse = np.sqrt(mean_squared_error(y_test, y_pred))\n",
        "print(f\"RMSE: {rmse:.4f}\")\n",
        "\n",
        "# Calculate MAPE\n",
        "mape = mean_absolute_percentage_error(y_test, y_pred)\n",
        "print(f\"MAPE: {mape:.4f}\")\n",
        "\n",
        "# Save the predicted values to a CSV file\n",
        "output_df = pd.DataFrame({'Actual': y_test, 'Predicted': y_pred.flatten()})\n",
        "output_df.to_csv('predictions.csv', index=False)\n",
        "print(\"Predictions saved to 'predictions.csv'\")\n",
        "\n",
        "# Plotting Actual vs Predicted\n",
        "plt.figure(figsize=(10,6))\n",
        "plt.plot(y_test, label='Actual')\n",
        "plt.plot(y_pred, label='Predicted', linestyle='--')\n",
        "plt.title('Actual vs Predicted Energy Consumption')\n",
        "plt.xlabel('Time')\n",
        "plt.ylabel('Energy Consumption')\n",
        "plt.legend()\n",
        "plt.show()\n"
      ],
      "metadata": {
        "colab": {
          "base_uri": "https://localhost:8080/",
          "height": 633
        },
        "id": "CK26oL6UFJzy",
        "outputId": "21e2764f-bfe9-4928-83bc-ad45ca8817b0"
      },
      "execution_count": 61,
      "outputs": [
        {
          "output_type": "stream",
          "name": "stdout",
          "text": [
            "\u001b[1m162/162\u001b[0m \u001b[32m━━━━━━━━━━━━━━━━━━━━\u001b[0m\u001b[37m\u001b[0m \u001b[1m1s\u001b[0m 7ms/step\n",
            "RMSE: 0.0876\n",
            "MAPE: 5415912640867.0459\n",
            "Predictions saved to 'predictions.csv'\n"
          ]
        },
        {
          "output_type": "display_data",
          "data": {
            "text/plain": [
              "<Figure size 1000x600 with 1 Axes>"
            ],
            "image/png": "[encoded data removed]"
          },
          "metadata": {}
        }
      ]
    },
    {
      "cell_type": "code",
      "source": [
        "from google.colab import files\n",
        "files.download('predictions.csv')\n"
      ],
      "metadata": {
        "colab": {
          "base_uri": "https://localhost:8080/",
          "height": 17
        },
        "id": "evxojAf5FlKY",
        "outputId": "65dcebe5-cf9b-4e2b-871e-b679b160815b"
      },
      "execution_count": 63,
      "outputs": [
        {
          "output_type": "display_data",
          "data": {
            "text/plain": [
              "<IPython.core.display.Javascript object>"
            ],
            "application/javascript": [
              "\n",
              "    async function download(id, filename, size) {\n",
              "      if (!google.colab.kernel.accessAllowed) {\n",
              "        return;\n",
              "      }\n",
              "      const div = document.createElement('div');\n",
              "      const label = document.createElement('label');\n",
              "      label.textContent = `Downloading \"${filename}\": `;\n",
              "      div.appendChild(label);\n",
              "      const progress = document.createElement('progress');\n",
              "      progress.max = size;\n",
              "      div.appendChild(progress);\n",
              "      document.body.appendChild(div);\n",
              "\n",
              "      const buffers = [];\n",
              "      let downloaded = 0;\n",
              "\n",
              "      const channel = await google.colab.kernel.comms.open(id);\n",
              "      // Send a message to notify the kernel that we're ready.\n",
              "      channel.send({})\n",
              "\n",
              "      for await (const message of channel.messages) {\n",
              "        // Send a message to notify the kernel that we're ready.\n",
              "        channel.send({})\n",
              "        if (message.buffers) {\n",
              "          for (const buffer of message.buffers) {\n",
              "            buffers.push(buffer);\n",
              "            downloaded += buffer.byteLength;\n",
              "            progress.value = downloaded;\n",
              "          }\n",
              "        }\n",
              "      }\n",
              "      const blob = new Blob(buffers, {type: 'application/binary'});\n",
              "      const a = document.createElement('a');\n",
              "      a.href = window.URL.createObjectURL(blob);\n",
              "      a.download = filename;\n",
              "      div.appendChild(a);\n",
              "      a.click();\n",
              "      div.remove();\n",
              "    }\n",
              "  "
            ]
          },
          "metadata": {}
        },
        {
          "output_type": "display_data",
          "data": {
            "text/plain": [
              "<IPython.core.display.Javascript object>"
            ],
            "application/javascript": [
              "download(\"download_c1820cff-81e8-4aa0-beaa-c989bce3d4f7\", \"predictions.csv\", 159522)"
            ]
          },
          "metadata": {}
        }
      ]
    }
  ]
}